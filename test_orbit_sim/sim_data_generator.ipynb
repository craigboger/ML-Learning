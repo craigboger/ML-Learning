{
 "cells": [
  {
   "cell_type": "markdown",
   "metadata": {},
   "source": [
    "# 2D Planet Simulator to Generate Data for ML Inferred Physics"
   ]
  },
  {
   "cell_type": "markdown",
   "metadata": {},
   "source": [
    "Author: Craig Boger\n",
    "06/01/2020"
   ]
  },
  {
   "cell_type": "markdown",
   "metadata": {},
   "source": [
    "Looks like the simulator is 2D, but can be changed to 3D if needed.\n",
    "\n",
    "This is a script to generate some quick simulated data for orbiting objects in a 2D space to fead into a neural network to predict the next position of a body traveling through a system."
   ]
  },
  {
   "cell_type": "markdown",
   "metadata": {},
   "source": [
    "## Straight Up Just Stealing Someone's Code and Trying to Run It"
   ]
  },
  {
   "cell_type": "markdown",
   "metadata": {},
   "source": [
    "Credit to benrules2: https://gist.github.com/benrules2/220d56ea6fe9a85a4d762128b11adfba"
   ]
  },
  {
   "cell_type": "code",
   "execution_count": 11,
   "metadata": {},
   "outputs": [
    {
     "data": {
      "application/vnd.jupyter.widget-view+json": {
       "model_id": "39c9b19476934df7858a9f8c04448870",
       "version_major": 2,
       "version_minor": 0
      },
      "text/plain": [
       "Canvas(toolbar=Toolbar(toolitems=[('Home', 'Reset original view', 'home', 'home'), ('Back', 'Back to previous …"
      ]
     },
     "metadata": {},
     "output_type": "display_data"
    }
   ],
   "source": [
    "import math\n",
    "import random\n",
    "%matplotlib widget\n",
    "import matplotlib.pyplot as plot\n",
    "from mpl_toolkits.mplot3d import Axes3D\n",
    "\n",
    "class point:\n",
    "    def __init__(self, x,y,z):\n",
    "        self.x = x\n",
    "        self.y = y\n",
    "        self.z = z\n",
    "\n",
    "class body:\n",
    "    def __init__(self, location, mass, velocity, name = \"\"):\n",
    "        self.location = location\n",
    "        self.mass = mass\n",
    "        self.velocity = velocity\n",
    "        self.name = name\n",
    "\n",
    "def calculate_single_body_acceleration(bodies, body_index):\n",
    "    G_const = 6.67408e-11 #m3 kg-1 s-2\n",
    "    acceleration = point(0,0,0)\n",
    "    target_body = bodies[body_index]\n",
    "    for index, external_body in enumerate(bodies):\n",
    "        if index != body_index:\n",
    "            r = (target_body.location.x - external_body.location.x)**2 + (target_body.location.y - external_body.location.y)**2 + (target_body.location.z - external_body.location.z)**2\n",
    "            r = math.sqrt(r)\n",
    "            tmp = G_const * external_body.mass / r**3\n",
    "            acceleration.x += tmp * (external_body.location.x - target_body.location.x)\n",
    "            acceleration.y += tmp * (external_body.location.y - target_body.location.y)\n",
    "            acceleration.z += tmp * (external_body.location.z - target_body.location.z)\n",
    "\n",
    "    return acceleration\n",
    "\n",
    "def compute_velocity(bodies, time_step = 1):\n",
    "    for body_index, target_body in enumerate(bodies):\n",
    "        acceleration = calculate_single_body_acceleration(bodies, body_index)\n",
    "\n",
    "        target_body.velocity.x += acceleration.x * time_step\n",
    "        target_body.velocity.y += acceleration.y * time_step\n",
    "        target_body.velocity.z += acceleration.z * time_step \n",
    "\n",
    "\n",
    "def update_location(bodies, time_step = 1):\n",
    "    for target_body in bodies:\n",
    "        target_body.location.x += target_body.velocity.x * time_step\n",
    "        target_body.location.y += target_body.velocity.y * time_step\n",
    "        target_body.location.z += target_body.velocity.z * time_step\n",
    "\n",
    "def compute_gravity_step(bodies, time_step = 1):\n",
    "    compute_velocity(bodies, time_step = time_step)\n",
    "    update_location(bodies, time_step = time_step)\n",
    "\n",
    "def plot_output(bodies, outfile = None):\n",
    "    fig = plot.figure()\n",
    "    colours = ['r','b','g','y','m','c']\n",
    "    ax = fig.add_subplot(1,1,1, projection='3d')\n",
    "    max_range = 0\n",
    "    for current_body in bodies: \n",
    "        max_dim = max(max(current_body[\"x\"]),max(current_body[\"y\"]),max(current_body[\"z\"]))\n",
    "        if max_dim > max_range:\n",
    "            max_range = max_dim\n",
    "        ax.plot(current_body[\"x\"], current_body[\"y\"], current_body[\"z\"], c = random.choice(colours), label = current_body[\"name\"])        \n",
    "    \n",
    "    ax.set_xlim([-max_range,max_range])    \n",
    "    ax.set_ylim([-max_range,max_range])\n",
    "    ax.set_zlim([-max_range,max_range])\n",
    "    ax.legend()        \n",
    "\n",
    "    if outfile:\n",
    "        plot.savefig(outfile)\n",
    "    else:\n",
    "        plot.show()\n",
    "\n",
    "def run_simulation(bodies, names = None, time_step = 1, number_of_steps = 10000, report_freq = 100):\n",
    "\n",
    "    #create output container for each body\n",
    "    body_locations_hist = []\n",
    "    for current_body in bodies:\n",
    "        body_locations_hist.append({\"x\":[], \"y\":[], \"z\":[], \"name\":current_body.name})\n",
    "        \n",
    "    for i in range(1,number_of_steps):\n",
    "        compute_gravity_step(bodies, time_step = 1000)            \n",
    "        \n",
    "        if i % report_freq == 0:\n",
    "            for index, body_location in enumerate(body_locations_hist):\n",
    "                body_location[\"x\"].append(bodies[index].location.x)\n",
    "                body_location[\"y\"].append(bodies[index].location.y)           \n",
    "                body_location[\"z\"].append(bodies[index].location.z)       \n",
    "\n",
    "    return body_locations_hist        \n",
    "            \n",
    "#planet data (location (m), mass (kg), velocity (m/s)\n",
    "sun = {\"location\":point(0,0,0), \"mass\":2e30, \"velocity\":point(0,0,0)}\n",
    "mercury = {\"location\":point(0,5.7e10,0), \"mass\":3.285e23, \"velocity\":point(47000,0,0)}\n",
    "venus = {\"location\":point(0,1.1e11,0), \"mass\":4.8e24, \"velocity\":point(35000,0,0)}\n",
    "earth = {\"location\":point(0,1.5e11,0), \"mass\":6e24, \"velocity\":point(30000,0,0)}\n",
    "mars = {\"location\":point(0,2.2e11,0), \"mass\":2.4e24, \"velocity\":point(24000,0,0)}\n",
    "jupiter = {\"location\":point(0,7.7e11,0), \"mass\":1e28, \"velocity\":point(13000,0,0)}\n",
    "saturn = {\"location\":point(0,1.4e12,0), \"mass\":5.7e26, \"velocity\":point(9000,0,0)}\n",
    "uranus = {\"location\":point(0,2.8e12,0), \"mass\":8.7e25, \"velocity\":point(6835,0,0)}\n",
    "neptune = {\"location\":point(0,4.5e12,0), \"mass\":1e26, \"velocity\":point(5477,0,0)}\n",
    "pluto = {\"location\":point(0,3.7e12,0), \"mass\":1.3e22, \"velocity\":point(4748,0,0)}\n",
    "# TODO: Add random sattellite here.\n",
    "satellite_1 = {\"location\":point(1e5,3.7e5,0), \"mass\":1.7e1, \"velocity\":point(4748,0,0)}\n",
    "\n",
    "if __name__ == \"__main__\":\n",
    "\n",
    "    #build list of planets in the simulation, or create your own\n",
    "    bodies = [\n",
    "        body( location = sun[\"location\"], mass = sun[\"mass\"], velocity = sun[\"velocity\"], name = \"sun\"),\n",
    "        body( location = earth[\"location\"], mass = earth[\"mass\"], velocity = earth[\"velocity\"], name = \"earth\"),\n",
    "        body( location = mars[\"location\"], mass = mars[\"mass\"], velocity = mars[\"velocity\"], name = \"mars\"),\n",
    "        body( location = venus[\"location\"], mass = venus[\"mass\"], velocity = venus[\"velocity\"], name = \"venus\"),\n",
    "        body( location = mercury[\"location\"], mass = mercury[\"mass\"], velocity = mercury[\"velocity\"], name = \"mercury\"),\n",
    "        body( location = jupiter[\"location\"], mass = jupiter[\"mass\"], velocity = jupiter[\"velocity\"], name = \"jupiter\"),\n",
    "        \n",
    "        body( location = satellite_1[\"location\"], mass = satellite_1[\"mass\"], velocity = satellite_1[\"velocity\"], name = \"sattellite_1\")\n",
    "        ]\n",
    "    \n",
    "    # Original defaults of simulation\n",
    "    # motions = run_simulation(bodies, time_step = 100, number_of_steps = 80000, report_freq = 1000)\n",
    "    # Try messing with report frequency to get more data.\n",
    "    motions = run_simulation(bodies, time_step = 100, number_of_steps = 300000, report_freq = 100)\n",
    "    plot_output(motions, outfile = 'orbits.png')"
   ]
  },
  {
   "cell_type": "markdown",
   "metadata": {},
   "source": [
    "Take motions data from the above simulation and convert it to a Pandas dataframe.  The \"motions\" output is a list of python dictionaries that can be converted into a dataframe and then manipulated."
   ]
  },
  {
   "cell_type": "code",
   "execution_count": 2,
   "metadata": {},
   "outputs": [
    {
     "data": {
      "text/html": [
       "<div>\n",
       "<style scoped>\n",
       "    .dataframe tbody tr th:only-of-type {\n",
       "        vertical-align: middle;\n",
       "    }\n",
       "\n",
       "    .dataframe tbody tr th {\n",
       "        vertical-align: top;\n",
       "    }\n",
       "\n",
       "    .dataframe thead th {\n",
       "        text-align: right;\n",
       "    }\n",
       "</style>\n",
       "<table border=\"1\" class=\"dataframe\">\n",
       "  <thead>\n",
       "    <tr style=\"text-align: right;\">\n",
       "      <th></th>\n",
       "      <th>x</th>\n",
       "      <th>y</th>\n",
       "      <th>z</th>\n",
       "      <th>name</th>\n",
       "    </tr>\n",
       "  </thead>\n",
       "  <tbody>\n",
       "    <tr>\n",
       "      <th>0</th>\n",
       "      <td>[6.15145359812474, 49.209722543602815, 166.052...</td>\n",
       "      <td>[5958.957631921161, 23717.444806285053, 53274....</td>\n",
       "      <td>[0.0, 0.0, 0.0, 0.0, 0.0, 0.0, 0.0, 0.0, 0.0, ...</td>\n",
       "      <td>sun</td>\n",
       "    </tr>\n",
       "    <tr>\n",
       "      <th>1</th>\n",
       "      <td>[2999802268.825811, 5998418130.70297, 89946616...</td>\n",
       "      <td>[149970049677.5866, 149880803782.63992, 149732...</td>\n",
       "      <td>[0.0, 0.0, 0.0, 0.0, 0.0, 0.0, 0.0, 0.0, 0.0, ...</td>\n",
       "      <td>earth</td>\n",
       "    </tr>\n",
       "    <tr>\n",
       "      <th>2</th>\n",
       "      <td>[2399949856.0622263, 4799598822.151186, 719864...</td>\n",
       "      <td>[219986083392.02606, 219944610590.4192, 219875...</td>\n",
       "      <td>[0.0, 0.0, 0.0, 0.0, 0.0, 0.0, 0.0, 0.0, 0.0, ...</td>\n",
       "      <td>mars</td>\n",
       "    </tr>\n",
       "    <tr>\n",
       "      <th>3</th>\n",
       "      <td>[3499415066.5380883, 6995320910.72392, 1048421...</td>\n",
       "      <td>[109944304322.01828, 109778376408.54349, 10950...</td>\n",
       "      <td>[0.0, 0.0, 0.0, 0.0, 0.0, 0.0, 0.0, 0.0, 0.0, ...</td>\n",
       "      <td>venus</td>\n",
       "    </tr>\n",
       "    <tr>\n",
       "      <th>4</th>\n",
       "      <td>[4694355206.133197, 9354859806.40224, 13947776...</td>\n",
       "      <td>[56792631228.91187, 56175842844.06461, 5515329...</td>\n",
       "      <td>[0.0, 0.0, 0.0, 0.0, 0.0, 0.0, 0.0, 0.0, 0.0, ...</td>\n",
       "      <td>mercury</td>\n",
       "    </tr>\n",
       "    <tr>\n",
       "      <th>5</th>\n",
       "      <td>[1299999366.5820706, 2599994932.2779655, 38999...</td>\n",
       "      <td>[769998863064.6425, 769995474775.1132, 7699898...</td>\n",
       "      <td>[0.0, 0.0, 0.0, 0.0, 0.0, 0.0, 0.0, 0.0, 0.0, ...</td>\n",
       "      <td>jupiter</td>\n",
       "    </tr>\n",
       "  </tbody>\n",
       "</table>\n",
       "</div>"
      ],
      "text/plain": [
       "                                                   x  \\\n",
       "0  [6.15145359812474, 49.209722543602815, 166.052...   \n",
       "1  [2999802268.825811, 5998418130.70297, 89946616...   \n",
       "2  [2399949856.0622263, 4799598822.151186, 719864...   \n",
       "3  [3499415066.5380883, 6995320910.72392, 1048421...   \n",
       "4  [4694355206.133197, 9354859806.40224, 13947776...   \n",
       "5  [1299999366.5820706, 2599994932.2779655, 38999...   \n",
       "\n",
       "                                                   y  \\\n",
       "0  [5958.957631921161, 23717.444806285053, 53274....   \n",
       "1  [149970049677.5866, 149880803782.63992, 149732...   \n",
       "2  [219986083392.02606, 219944610590.4192, 219875...   \n",
       "3  [109944304322.01828, 109778376408.54349, 10950...   \n",
       "4  [56792631228.91187, 56175842844.06461, 5515329...   \n",
       "5  [769998863064.6425, 769995474775.1132, 7699898...   \n",
       "\n",
       "                                                   z     name  \n",
       "0  [0.0, 0.0, 0.0, 0.0, 0.0, 0.0, 0.0, 0.0, 0.0, ...      sun  \n",
       "1  [0.0, 0.0, 0.0, 0.0, 0.0, 0.0, 0.0, 0.0, 0.0, ...    earth  \n",
       "2  [0.0, 0.0, 0.0, 0.0, 0.0, 0.0, 0.0, 0.0, 0.0, ...     mars  \n",
       "3  [0.0, 0.0, 0.0, 0.0, 0.0, 0.0, 0.0, 0.0, 0.0, ...    venus  \n",
       "4  [0.0, 0.0, 0.0, 0.0, 0.0, 0.0, 0.0, 0.0, 0.0, ...  mercury  \n",
       "5  [0.0, 0.0, 0.0, 0.0, 0.0, 0.0, 0.0, 0.0, 0.0, ...  jupiter  "
      ]
     },
     "execution_count": 2,
     "metadata": {},
     "output_type": "execute_result"
    }
   ],
   "source": [
    "import pandas as pd\n",
    "import numpy as np\n",
    "\n",
    "motions_df = pd.DataFrame(motions)\n",
    "motions_df.head(100)"
   ]
  },
  {
   "cell_type": "code",
   "execution_count": 3,
   "metadata": {},
   "outputs": [],
   "source": [
    "# Trying to separate out each row of list or dataframe into its own dataframe.\n",
    "# Will later put these dataframes back together into 1 large dataframe.\n",
    "\n",
    "motions_df_list = []\n",
    "for body in motions:\n",
    "    motions_df_list.append(pd.DataFrame(body))"
   ]
  },
  {
   "cell_type": "code",
   "execution_count": 4,
   "metadata": {},
   "outputs": [
    {
     "data": {
      "text/html": [
       "<div>\n",
       "<style scoped>\n",
       "    .dataframe tbody tr th:only-of-type {\n",
       "        vertical-align: middle;\n",
       "    }\n",
       "\n",
       "    .dataframe tbody tr th {\n",
       "        vertical-align: top;\n",
       "    }\n",
       "\n",
       "    .dataframe thead th {\n",
       "        text-align: right;\n",
       "    }\n",
       "</style>\n",
       "<table border=\"1\" class=\"dataframe\">\n",
       "  <thead>\n",
       "    <tr style=\"text-align: right;\">\n",
       "      <th></th>\n",
       "      <th>x</th>\n",
       "      <th>y</th>\n",
       "      <th>z</th>\n",
       "      <th>name</th>\n",
       "    </tr>\n",
       "  </thead>\n",
       "  <tbody>\n",
       "    <tr>\n",
       "      <th>0</th>\n",
       "      <td>3.499415e+09</td>\n",
       "      <td>1.099443e+11</td>\n",
       "      <td>0.0</td>\n",
       "      <td>venus</td>\n",
       "    </tr>\n",
       "    <tr>\n",
       "      <th>1</th>\n",
       "      <td>6.995321e+09</td>\n",
       "      <td>1.097784e+11</td>\n",
       "      <td>0.0</td>\n",
       "      <td>venus</td>\n",
       "    </tr>\n",
       "    <tr>\n",
       "      <th>2</th>\n",
       "      <td>1.048421e+10</td>\n",
       "      <td>1.095024e+11</td>\n",
       "      <td>0.0</td>\n",
       "      <td>venus</td>\n",
       "    </tr>\n",
       "    <tr>\n",
       "      <th>3</th>\n",
       "      <td>1.396259e+10</td>\n",
       "      <td>1.091166e+11</td>\n",
       "      <td>0.0</td>\n",
       "      <td>venus</td>\n",
       "    </tr>\n",
       "    <tr>\n",
       "      <th>4</th>\n",
       "      <td>1.742697e+10</td>\n",
       "      <td>1.086215e+11</td>\n",
       "      <td>0.0</td>\n",
       "      <td>venus</td>\n",
       "    </tr>\n",
       "    <tr>\n",
       "      <th>...</th>\n",
       "      <td>...</td>\n",
       "      <td>...</td>\n",
       "      <td>...</td>\n",
       "      <td>...</td>\n",
       "    </tr>\n",
       "    <tr>\n",
       "      <th>2994</th>\n",
       "      <td>-5.346618e+10</td>\n",
       "      <td>8.152006e+10</td>\n",
       "      <td>0.0</td>\n",
       "      <td>venus</td>\n",
       "    </tr>\n",
       "    <tr>\n",
       "      <th>2995</th>\n",
       "      <td>-5.087488e+10</td>\n",
       "      <td>8.385649e+10</td>\n",
       "      <td>0.0</td>\n",
       "      <td>venus</td>\n",
       "    </tr>\n",
       "    <tr>\n",
       "      <th>2996</th>\n",
       "      <td>-4.821074e+10</td>\n",
       "      <td>8.611085e+10</td>\n",
       "      <td>0.0</td>\n",
       "      <td>venus</td>\n",
       "    </tr>\n",
       "    <tr>\n",
       "      <th>2997</th>\n",
       "      <td>-4.547635e+10</td>\n",
       "      <td>8.828085e+10</td>\n",
       "      <td>0.0</td>\n",
       "      <td>venus</td>\n",
       "    </tr>\n",
       "    <tr>\n",
       "      <th>2998</th>\n",
       "      <td>-4.267442e+10</td>\n",
       "      <td>9.036425e+10</td>\n",
       "      <td>0.0</td>\n",
       "      <td>venus</td>\n",
       "    </tr>\n",
       "  </tbody>\n",
       "</table>\n",
       "<p>2999 rows × 4 columns</p>\n",
       "</div>"
      ],
      "text/plain": [
       "                 x             y    z   name\n",
       "0     3.499415e+09  1.099443e+11  0.0  venus\n",
       "1     6.995321e+09  1.097784e+11  0.0  venus\n",
       "2     1.048421e+10  1.095024e+11  0.0  venus\n",
       "3     1.396259e+10  1.091166e+11  0.0  venus\n",
       "4     1.742697e+10  1.086215e+11  0.0  venus\n",
       "...            ...           ...  ...    ...\n",
       "2994 -5.346618e+10  8.152006e+10  0.0  venus\n",
       "2995 -5.087488e+10  8.385649e+10  0.0  venus\n",
       "2996 -4.821074e+10  8.611085e+10  0.0  venus\n",
       "2997 -4.547635e+10  8.828085e+10  0.0  venus\n",
       "2998 -4.267442e+10  9.036425e+10  0.0  venus\n",
       "\n",
       "[2999 rows x 4 columns]"
      ]
     },
     "execution_count": 4,
     "metadata": {},
     "output_type": "execute_result"
    }
   ],
   "source": [
    "motions_df_list[3]"
   ]
  },
  {
   "cell_type": "code",
   "execution_count": 5,
   "metadata": {},
   "outputs": [
    {
     "data": {
      "text/html": [
       "<div>\n",
       "<style scoped>\n",
       "    .dataframe tbody tr th:only-of-type {\n",
       "        vertical-align: middle;\n",
       "    }\n",
       "\n",
       "    .dataframe tbody tr th {\n",
       "        vertical-align: top;\n",
       "    }\n",
       "\n",
       "    .dataframe thead th {\n",
       "        text-align: right;\n",
       "    }\n",
       "</style>\n",
       "<table border=\"1\" class=\"dataframe\">\n",
       "  <thead>\n",
       "    <tr style=\"text-align: right;\">\n",
       "      <th></th>\n",
       "      <th>sun_x</th>\n",
       "      <th>sun_y</th>\n",
       "      <th>sun_z</th>\n",
       "      <th>earth_x</th>\n",
       "      <th>earth_y</th>\n",
       "      <th>earth_z</th>\n",
       "      <th>mars_x</th>\n",
       "      <th>mars_y</th>\n",
       "      <th>mars_z</th>\n",
       "      <th>venus_x</th>\n",
       "      <th>venus_y</th>\n",
       "      <th>venus_z</th>\n",
       "      <th>mercury_x</th>\n",
       "      <th>mercury_y</th>\n",
       "      <th>mercury_z</th>\n",
       "      <th>jupiter_x</th>\n",
       "      <th>jupiter_y</th>\n",
       "      <th>jupiter_z</th>\n",
       "    </tr>\n",
       "  </thead>\n",
       "  <tbody>\n",
       "    <tr>\n",
       "      <th>0</th>\n",
       "      <td>6.151454e+00</td>\n",
       "      <td>5.958958e+03</td>\n",
       "      <td>0.0</td>\n",
       "      <td>2.999802e+09</td>\n",
       "      <td>1.499700e+11</td>\n",
       "      <td>0.0</td>\n",
       "      <td>2.399950e+09</td>\n",
       "      <td>2.199861e+11</td>\n",
       "      <td>0.0</td>\n",
       "      <td>3.499415e+09</td>\n",
       "      <td>1.099443e+11</td>\n",
       "      <td>0.0</td>\n",
       "      <td>4.694355e+09</td>\n",
       "      <td>5.679263e+10</td>\n",
       "      <td>0.0</td>\n",
       "      <td>1.299999e+09</td>\n",
       "      <td>7.699989e+11</td>\n",
       "      <td>0.0</td>\n",
       "    </tr>\n",
       "    <tr>\n",
       "      <th>1</th>\n",
       "      <td>4.920972e+01</td>\n",
       "      <td>2.371744e+04</td>\n",
       "      <td>0.0</td>\n",
       "      <td>5.998418e+09</td>\n",
       "      <td>1.498808e+11</td>\n",
       "      <td>0.0</td>\n",
       "      <td>4.799599e+09</td>\n",
       "      <td>2.199446e+11</td>\n",
       "      <td>0.0</td>\n",
       "      <td>6.995321e+09</td>\n",
       "      <td>1.097784e+11</td>\n",
       "      <td>0.0</td>\n",
       "      <td>9.354860e+09</td>\n",
       "      <td>5.617584e+10</td>\n",
       "      <td>0.0</td>\n",
       "      <td>2.599995e+09</td>\n",
       "      <td>7.699955e+11</td>\n",
       "      <td>0.0</td>\n",
       "    </tr>\n",
       "    <tr>\n",
       "      <th>2</th>\n",
       "      <td>1.660524e+02</td>\n",
       "      <td>5.327429e+04</td>\n",
       "      <td>0.0</td>\n",
       "      <td>8.994662e+09</td>\n",
       "      <td>1.497323e+11</td>\n",
       "      <td>0.0</td>\n",
       "      <td>7.198646e+09</td>\n",
       "      <td>2.198756e+11</td>\n",
       "      <td>0.0</td>\n",
       "      <td>1.048421e+10</td>\n",
       "      <td>1.095024e+11</td>\n",
       "      <td>0.0</td>\n",
       "      <td>1.394778e+10</td>\n",
       "      <td>5.515330e+10</td>\n",
       "      <td>0.0</td>\n",
       "      <td>3.899983e+09</td>\n",
       "      <td>7.699898e+11</td>\n",
       "      <td>0.0</td>\n",
       "    </tr>\n",
       "    <tr>\n",
       "      <th>3</th>\n",
       "      <td>3.934971e+02</td>\n",
       "      <td>9.462756e+04</td>\n",
       "      <td>0.0</td>\n",
       "      <td>1.198735e+10</td>\n",
       "      <td>1.495246e+11</td>\n",
       "      <td>0.0</td>\n",
       "      <td>9.596791e+09</td>\n",
       "      <td>2.197790e+11</td>\n",
       "      <td>0.0</td>\n",
       "      <td>1.396259e+10</td>\n",
       "      <td>1.091166e+11</td>\n",
       "      <td>0.0</td>\n",
       "      <td>1.843961e+10</td>\n",
       "      <td>5.373112e+10</td>\n",
       "      <td>0.0</td>\n",
       "      <td>5.199959e+09</td>\n",
       "      <td>7.699819e+11</td>\n",
       "      <td>0.0</td>\n",
       "    </tr>\n",
       "    <tr>\n",
       "      <th>4</th>\n",
       "      <td>7.682695e+02</td>\n",
       "      <td>1.477745e+05</td>\n",
       "      <td>0.0</td>\n",
       "      <td>1.497529e+10</td>\n",
       "      <td>1.492578e+11</td>\n",
       "      <td>0.0</td>\n",
       "      <td>1.199373e+10</td>\n",
       "      <td>2.196549e+11</td>\n",
       "      <td>0.0</td>\n",
       "      <td>1.742697e+10</td>\n",
       "      <td>1.086215e+11</td>\n",
       "      <td>0.0</td>\n",
       "      <td>2.279721e+10</td>\n",
       "      <td>5.191794e+10</td>\n",
       "      <td>0.0</td>\n",
       "      <td>6.499921e+09</td>\n",
       "      <td>7.699718e+11</td>\n",
       "      <td>0.0</td>\n",
       "    </tr>\n",
       "    <tr>\n",
       "      <th>...</th>\n",
       "      <td>...</td>\n",
       "      <td>...</td>\n",
       "      <td>...</td>\n",
       "      <td>...</td>\n",
       "      <td>...</td>\n",
       "      <td>...</td>\n",
       "      <td>...</td>\n",
       "      <td>...</td>\n",
       "      <td>...</td>\n",
       "      <td>...</td>\n",
       "      <td>...</td>\n",
       "      <td>...</td>\n",
       "      <td>...</td>\n",
       "      <td>...</td>\n",
       "      <td>...</td>\n",
       "      <td>...</td>\n",
       "      <td>...</td>\n",
       "      <td>...</td>\n",
       "    </tr>\n",
       "    <tr>\n",
       "      <th>95</th>\n",
       "      <td>4.120216e+06</td>\n",
       "      <td>5.305332e+07</td>\n",
       "      <td>0.0</td>\n",
       "      <td>1.441445e+11</td>\n",
       "      <td>-4.894566e+10</td>\n",
       "      <td>0.0</td>\n",
       "      <td>1.875072e+11</td>\n",
       "      <td>1.033952e+11</td>\n",
       "      <td>0.0</td>\n",
       "      <td>1.578896e+10</td>\n",
       "      <td>-1.109147e+11</td>\n",
       "      <td>0.0</td>\n",
       "      <td>3.050287e+10</td>\n",
       "      <td>-4.133121e+10</td>\n",
       "      <td>0.0</td>\n",
       "      <td>1.242401e+11</td>\n",
       "      <td>7.596460e+11</td>\n",
       "      <td>0.0</td>\n",
       "    </tr>\n",
       "    <tr>\n",
       "      <th>96</th>\n",
       "      <td>4.240064e+06</td>\n",
       "      <td>5.414771e+07</td>\n",
       "      <td>0.0</td>\n",
       "      <td>1.431961e+11</td>\n",
       "      <td>-5.174369e+10</td>\n",
       "      <td>0.0</td>\n",
       "      <td>1.885863e+11</td>\n",
       "      <td>1.011757e+11</td>\n",
       "      <td>0.0</td>\n",
       "      <td>1.238223e+10</td>\n",
       "      <td>-1.113496e+11</td>\n",
       "      <td>0.0</td>\n",
       "      <td>2.606634e+10</td>\n",
       "      <td>-4.407945e+10</td>\n",
       "      <td>0.0</td>\n",
       "      <td>1.255224e+11</td>\n",
       "      <td>7.594296e+11</td>\n",
       "      <td>0.0</td>\n",
       "    </tr>\n",
       "    <tr>\n",
       "      <th>97</th>\n",
       "      <td>4.362014e+06</td>\n",
       "      <td>5.525284e+07</td>\n",
       "      <td>0.0</td>\n",
       "      <td>1.421936e+11</td>\n",
       "      <td>-5.452212e+10</td>\n",
       "      <td>0.0</td>\n",
       "      <td>1.896398e+11</td>\n",
       "      <td>9.894245e+10</td>\n",
       "      <td>0.0</td>\n",
       "      <td>8.963777e+09</td>\n",
       "      <td>-1.116789e+11</td>\n",
       "      <td>0.0</td>\n",
       "      <td>2.137174e+10</td>\n",
       "      <td>-4.639053e+10</td>\n",
       "      <td>0.0</td>\n",
       "      <td>1.268044e+11</td>\n",
       "      <td>7.592110e+11</td>\n",
       "      <td>0.0</td>\n",
       "    </tr>\n",
       "    <tr>\n",
       "      <th>98</th>\n",
       "      <td>4.486067e+06</td>\n",
       "      <td>5.636871e+07</td>\n",
       "      <td>0.0</td>\n",
       "      <td>1.411373e+11</td>\n",
       "      <td>-5.727992e+10</td>\n",
       "      <td>0.0</td>\n",
       "      <td>1.906674e+11</td>\n",
       "      <td>9.669569e+10</td>\n",
       "      <td>0.0</td>\n",
       "      <td>5.536832e+09</td>\n",
       "      <td>-1.119023e+11</td>\n",
       "      <td>0.0</td>\n",
       "      <td>1.646398e+10</td>\n",
       "      <td>-4.823808e+10</td>\n",
       "      <td>0.0</td>\n",
       "      <td>1.280860e+11</td>\n",
       "      <td>7.589902e+11</td>\n",
       "      <td>0.0</td>\n",
       "    </tr>\n",
       "    <tr>\n",
       "      <th>99</th>\n",
       "      <td>4.612226e+06</td>\n",
       "      <td>5.749530e+07</td>\n",
       "      <td>0.0</td>\n",
       "      <td>1.400277e+11</td>\n",
       "      <td>-6.001606e+10</td>\n",
       "      <td>0.0</td>\n",
       "      <td>1.916689e+11</td>\n",
       "      <td>9.443575e+10</td>\n",
       "      <td>0.0</td>\n",
       "      <td>2.104645e+09</td>\n",
       "      <td>-1.120196e+11</td>\n",
       "      <td>0.0</td>\n",
       "      <td>1.139100e+10</td>\n",
       "      <td>-4.960075e+10</td>\n",
       "      <td>0.0</td>\n",
       "      <td>1.293672e+11</td>\n",
       "      <td>7.587672e+11</td>\n",
       "      <td>0.0</td>\n",
       "    </tr>\n",
       "  </tbody>\n",
       "</table>\n",
       "<p>100 rows × 18 columns</p>\n",
       "</div>"
      ],
      "text/plain": [
       "           sun_x         sun_y  sun_z       earth_x       earth_y  earth_z  \\\n",
       "0   6.151454e+00  5.958958e+03    0.0  2.999802e+09  1.499700e+11      0.0   \n",
       "1   4.920972e+01  2.371744e+04    0.0  5.998418e+09  1.498808e+11      0.0   \n",
       "2   1.660524e+02  5.327429e+04    0.0  8.994662e+09  1.497323e+11      0.0   \n",
       "3   3.934971e+02  9.462756e+04    0.0  1.198735e+10  1.495246e+11      0.0   \n",
       "4   7.682695e+02  1.477745e+05    0.0  1.497529e+10  1.492578e+11      0.0   \n",
       "..           ...           ...    ...           ...           ...      ...   \n",
       "95  4.120216e+06  5.305332e+07    0.0  1.441445e+11 -4.894566e+10      0.0   \n",
       "96  4.240064e+06  5.414771e+07    0.0  1.431961e+11 -5.174369e+10      0.0   \n",
       "97  4.362014e+06  5.525284e+07    0.0  1.421936e+11 -5.452212e+10      0.0   \n",
       "98  4.486067e+06  5.636871e+07    0.0  1.411373e+11 -5.727992e+10      0.0   \n",
       "99  4.612226e+06  5.749530e+07    0.0  1.400277e+11 -6.001606e+10      0.0   \n",
       "\n",
       "          mars_x        mars_y  mars_z       venus_x       venus_y  venus_z  \\\n",
       "0   2.399950e+09  2.199861e+11     0.0  3.499415e+09  1.099443e+11      0.0   \n",
       "1   4.799599e+09  2.199446e+11     0.0  6.995321e+09  1.097784e+11      0.0   \n",
       "2   7.198646e+09  2.198756e+11     0.0  1.048421e+10  1.095024e+11      0.0   \n",
       "3   9.596791e+09  2.197790e+11     0.0  1.396259e+10  1.091166e+11      0.0   \n",
       "4   1.199373e+10  2.196549e+11     0.0  1.742697e+10  1.086215e+11      0.0   \n",
       "..           ...           ...     ...           ...           ...      ...   \n",
       "95  1.875072e+11  1.033952e+11     0.0  1.578896e+10 -1.109147e+11      0.0   \n",
       "96  1.885863e+11  1.011757e+11     0.0  1.238223e+10 -1.113496e+11      0.0   \n",
       "97  1.896398e+11  9.894245e+10     0.0  8.963777e+09 -1.116789e+11      0.0   \n",
       "98  1.906674e+11  9.669569e+10     0.0  5.536832e+09 -1.119023e+11      0.0   \n",
       "99  1.916689e+11  9.443575e+10     0.0  2.104645e+09 -1.120196e+11      0.0   \n",
       "\n",
       "       mercury_x     mercury_y  mercury_z     jupiter_x     jupiter_y  \\\n",
       "0   4.694355e+09  5.679263e+10        0.0  1.299999e+09  7.699989e+11   \n",
       "1   9.354860e+09  5.617584e+10        0.0  2.599995e+09  7.699955e+11   \n",
       "2   1.394778e+10  5.515330e+10        0.0  3.899983e+09  7.699898e+11   \n",
       "3   1.843961e+10  5.373112e+10        0.0  5.199959e+09  7.699819e+11   \n",
       "4   2.279721e+10  5.191794e+10        0.0  6.499921e+09  7.699718e+11   \n",
       "..           ...           ...        ...           ...           ...   \n",
       "95  3.050287e+10 -4.133121e+10        0.0  1.242401e+11  7.596460e+11   \n",
       "96  2.606634e+10 -4.407945e+10        0.0  1.255224e+11  7.594296e+11   \n",
       "97  2.137174e+10 -4.639053e+10        0.0  1.268044e+11  7.592110e+11   \n",
       "98  1.646398e+10 -4.823808e+10        0.0  1.280860e+11  7.589902e+11   \n",
       "99  1.139100e+10 -4.960075e+10        0.0  1.293672e+11  7.587672e+11   \n",
       "\n",
       "    jupiter_z  \n",
       "0         0.0  \n",
       "1         0.0  \n",
       "2         0.0  \n",
       "3         0.0  \n",
       "4         0.0  \n",
       "..        ...  \n",
       "95        0.0  \n",
       "96        0.0  \n",
       "97        0.0  \n",
       "98        0.0  \n",
       "99        0.0  \n",
       "\n",
       "[100 rows x 18 columns]"
      ]
     },
     "execution_count": 5,
     "metadata": {},
     "output_type": "execute_result"
    }
   ],
   "source": [
    "# Combine the dataframes into a single, large dataframe.\n",
    "# Can later choose a planet to be the target we train to predict.\n",
    "complete_motion_df = None\n",
    "\n",
    "for body in motions_df_list:\n",
    "    # Append name of body to each column and remove the name column\n",
    "    body_name = body.loc[0, \"name\"]\n",
    "    body.columns = [body_name + \"_x\",\n",
    "                    body_name + \"_y\",\n",
    "                    body_name + \"_z\",\n",
    "                    \"name\"]\n",
    "    # Add current body to the complete dataframe.\n",
    "    complete_motion_df = pd.concat([complete_motion_df, body.iloc[:, 0:3]], axis=1)\n",
    "\n",
    "complete_motion_df.head(100)"
   ]
  },
  {
   "cell_type": "code",
   "execution_count": 6,
   "metadata": {},
   "outputs": [
    {
     "data": {
      "text/plain": [
       "(2999, 18)"
      ]
     },
     "execution_count": 6,
     "metadata": {},
     "output_type": "execute_result"
    }
   ],
   "source": [
    "complete_motion_df.shape"
   ]
  },
  {
   "cell_type": "markdown",
   "metadata": {},
   "source": [
    "At this point, we have a single dataframe with all bodies and all positions with each time step as the index of our rows."
   ]
  },
  {
   "cell_type": "markdown",
   "metadata": {},
   "source": [
    "# Try a Quick Neural Net for Predicting Jupiter's Position"
   ]
  },
  {
   "cell_type": "markdown",
   "metadata": {},
   "source": [
    "Basic Regression with Tensorflow: https://www.tensorflow.org/tutorials/keras/regression\n"
   ]
  },
  {
   "cell_type": "markdown",
   "metadata": {},
   "source": [
    "### Imports"
   ]
  },
  {
   "cell_type": "code",
   "execution_count": 7,
   "metadata": {},
   "outputs": [],
   "source": [
    "# Python ≥3.5 is required\n",
    "import sys\n",
    "assert sys.version_info >= (3, 5)\n",
    "\n",
    "# Scikit-Learn ≥0.20 is required\n",
    "# Probably not needed since not using regressor or doing any feature engineering.\n",
    "import sklearn\n",
    "assert sklearn.__version__ >= \"0.20\"\n",
    "\n",
    "# TensorFlow ≥2.0 is required\n",
    "import tensorflow as tf\n",
    "assert tf.__version__ >= \"2.0\"\n",
    "# Recommended to enable eager execution when developing model.\n",
    "# Processing data: https://www.youtube.com/watch?v=oFFbKogYdfc\n",
    "# tf.enable_eager_execution()\n",
    "\n",
    "# Import Keras\n",
    "from tensorflow import keras\n",
    "\n",
    "# to make this notebook's output stable across runs\n",
    "np.random.seed(42)\n",
    "\n",
    "# Use sklearn for data processing\n",
    "\n",
    "\n",
    "# Common imports\n",
    "import numpy as np\n",
    "import os"
   ]
  },
  {
   "cell_type": "code",
   "execution_count": 8,
   "metadata": {},
   "outputs": [
    {
     "data": {
      "text/plain": [
       "'2.2.0'"
      ]
     },
     "execution_count": 8,
     "metadata": {},
     "output_type": "execute_result"
    }
   ],
   "source": [
    "tf.__version__"
   ]
  },
  {
   "cell_type": "code",
   "execution_count": 9,
   "metadata": {},
   "outputs": [
    {
     "data": {
      "text/plain": [
       "'2.3.0-tf'"
      ]
     },
     "execution_count": 9,
     "metadata": {},
     "output_type": "execute_result"
    }
   ],
   "source": [
    "keras.__version__"
   ]
  },
  {
   "cell_type": "markdown",
   "metadata": {},
   "source": [
    "### Convert Padas Dataframe to Numpy Arrays"
   ]
  },
  {
   "cell_type": "markdown",
   "metadata": {},
   "source": [
    "Since I'm having trouble working with Tensorflow datasets right now, we'll go with numpy arrays for splitting out training, validation, and test datasets.  There are a lot of performance optimizations that can be taken advantage of later with Tensorflow datasets and tensors, so it should eventually be learned.\n",
    "https://www.youtube.com/watch?v=oFFbKogYdfc"
   ]
  },
  {
   "cell_type": "code",
   "execution_count": 10,
   "metadata": {},
   "outputs": [
    {
     "data": {
      "text/html": [
       "<div>\n",
       "<style scoped>\n",
       "    .dataframe tbody tr th:only-of-type {\n",
       "        vertical-align: middle;\n",
       "    }\n",
       "\n",
       "    .dataframe tbody tr th {\n",
       "        vertical-align: top;\n",
       "    }\n",
       "\n",
       "    .dataframe thead th {\n",
       "        text-align: right;\n",
       "    }\n",
       "</style>\n",
       "<table border=\"1\" class=\"dataframe\">\n",
       "  <thead>\n",
       "    <tr style=\"text-align: right;\">\n",
       "      <th></th>\n",
       "      <th>jupiter_x</th>\n",
       "      <th>jupiter_y</th>\n",
       "      <th>jupiter_z</th>\n",
       "    </tr>\n",
       "  </thead>\n",
       "  <tbody>\n",
       "    <tr>\n",
       "      <th>0</th>\n",
       "      <td>1.299999e+09</td>\n",
       "      <td>7.699989e+11</td>\n",
       "      <td>0.0</td>\n",
       "    </tr>\n",
       "    <tr>\n",
       "      <th>1</th>\n",
       "      <td>2.599995e+09</td>\n",
       "      <td>7.699955e+11</td>\n",
       "      <td>0.0</td>\n",
       "    </tr>\n",
       "    <tr>\n",
       "      <th>2</th>\n",
       "      <td>3.899983e+09</td>\n",
       "      <td>7.699898e+11</td>\n",
       "      <td>0.0</td>\n",
       "    </tr>\n",
       "    <tr>\n",
       "      <th>3</th>\n",
       "      <td>5.199959e+09</td>\n",
       "      <td>7.699819e+11</td>\n",
       "      <td>0.0</td>\n",
       "    </tr>\n",
       "    <tr>\n",
       "      <th>4</th>\n",
       "      <td>6.499921e+09</td>\n",
       "      <td>7.699718e+11</td>\n",
       "      <td>0.0</td>\n",
       "    </tr>\n",
       "  </tbody>\n",
       "</table>\n",
       "</div>"
      ],
      "text/plain": [
       "      jupiter_x     jupiter_y  jupiter_z\n",
       "0  1.299999e+09  7.699989e+11        0.0\n",
       "1  2.599995e+09  7.699955e+11        0.0\n",
       "2  3.899983e+09  7.699898e+11        0.0\n",
       "3  5.199959e+09  7.699819e+11        0.0\n",
       "4  6.499921e+09  7.699718e+11        0.0"
      ]
     },
     "execution_count": 10,
     "metadata": {},
     "output_type": "execute_result"
    }
   ],
   "source": [
    "# Assuming last 3 columns in the dataframe are the target x,y, and z values.  \n",
    "target = complete_motion_df.iloc[:,-3:]\n",
    "# Drop target from main dataframe.\n",
    "complete_motion_df.drop(complete_motion_df.iloc[:,-3:], axis = 1, inplace = True)\n",
    "target.head(5)"
   ]
  },
  {
   "cell_type": "code",
   "execution_count": null,
   "metadata": {},
   "outputs": [],
   "source": [
    "# Convert Pandas dataframe to numpy array for input into Tensorflow model training.\n",
    "complete_motion_np = complete_motion_df.to_numpy()\n",
    "target_np = target.to_numpy()\n",
    "print(target_np)"
   ]
  },
  {
   "cell_type": "code",
   "execution_count": null,
   "metadata": {},
   "outputs": [],
   "source": [
    "#Split into train, validation, and test sets.\n",
    "# Setup train, validation, and test splits\n",
    "DATASET_SIZE = len(complete_motion_df)\n",
    "train_size = int(0.7 * DATASET_SIZE)\n",
    "val_size = int(0.15 * DATASET_SIZE)\n",
    "test_size = int(0.15 * DATASET_SIZE)\n",
    "\n",
    "X_train, X_valid, X_test = complete_motion_np[:train_size], complete_motion_np[train_size:(train_size+val_size)], complete_motion_np[(train_size + val_size):]\n",
    "y_train, y_valid, y_test = target_np[:train_size], target_np[train_size:(train_size+val_size)], target_np[(train_size + val_size):]"
   ]
  },
  {
   "cell_type": "code",
   "execution_count": null,
   "metadata": {},
   "outputs": [],
   "source": [
    "X_train.shape[1:]"
   ]
  },
  {
   "cell_type": "markdown",
   "metadata": {},
   "source": [
    "#### Try using DNN Regressor Instead of Trying to Build Custom Network"
   ]
  },
  {
   "cell_type": "code",
   "execution_count": null,
   "metadata": {},
   "outputs": [],
   "source": []
  },
  {
   "cell_type": "markdown",
   "metadata": {},
   "source": [
    "#### Try using Functional or Sequential API to Build Network"
   ]
  },
  {
   "cell_type": "code",
   "execution_count": null,
   "metadata": {},
   "outputs": [],
   "source": [
    "# Try with just 1D data\n",
    "y_train_1D = y_train[:,1]\n",
    "y_valid_1D = y_valid[:,1]\n",
    "\n",
    "type(y_train_1D[0])"
   ]
  },
  {
   "cell_type": "code",
   "execution_count": null,
   "metadata": {},
   "outputs": [],
   "source": [
    "# Keep model results consistent with example.\n",
    "np.random.seed(42)\n",
    "tf.random.set_seed(42)\n",
    "\n",
    "# Try defining model with the Keras functional API instead of the Sequential API.\n",
    "input_ = keras.layers.Input(shape=X_train.shape[1:])\n",
    "hidden1 = keras.layers.Dense(30, activation=\"relu\")(input_)\n",
    "hidden2 = keras.layers.Dense(30, activation=\"relu\")(hidden1)\n",
    "output = keras.layers.Dense(3, activation=\"linear\")(hidden2)\n",
    "\n",
    "model = keras.models.Model(inputs=[input_], outputs=[output])\n",
    "\n",
    "model.compile(optimizer=keras.optimizers.SGD(lr=1e-3),\n",
    "                loss=\"mse\",\n",
    "                metrics=['mae', 'mse'])"
   ]
  },
  {
   "cell_type": "code",
   "execution_count": null,
   "metadata": {},
   "outputs": [],
   "source": [
    "# Train model\n",
    "# history = model.fit(train_dataset, epochs=15, validation_data = val_dataset)\n",
    "history = model.fit(X_train, y_train_1D, epochs=15, validation_data=(X_valid, y_valid_1D))"
   ]
  },
  {
   "cell_type": "code",
   "execution_count": null,
   "metadata": {},
   "outputs": [],
   "source": [
    "# Clear model and reconstruct by passing a list of layers into the sequential model.\n",
    "keras.backend.clear_session()\n",
    "np.random.seed(42)\n",
    "tf.random.set_seed(42)"
   ]
  },
  {
   "cell_type": "code",
   "execution_count": null,
   "metadata": {},
   "outputs": [],
   "source": [
    "# Test the model\n",
    "mse_test = model.evaluate(X_test, y_test)"
   ]
  },
  {
   "cell_type": "code",
   "execution_count": null,
   "metadata": {},
   "outputs": [],
   "source": [
    "# Pretend we are getting new data to try predictions with.\n",
    "X_new = X_test[:3]\n",
    "y_pred = model.predict(X_new)\n",
    "y_pred"
   ]
  },
  {
   "cell_type": "code",
   "execution_count": null,
   "metadata": {},
   "outputs": [],
   "source": [
    "y_train"
   ]
  },
  {
   "cell_type": "markdown",
   "metadata": {},
   "source": [
    "### Convert Pandas Dataframe to Tensorflow Dataset"
   ]
  },
  {
   "cell_type": "markdown",
   "metadata": {},
   "source": [
    "https://www.tensorflow.org/tutorials/load_data/pandas_dataframe"
   ]
  },
  {
   "cell_type": "code",
   "execution_count": null,
   "metadata": {},
   "outputs": [],
   "source": [
    "# Assuming last 3 columns in the dataframe are the target x,y, and z values.  \n",
    "target = complete_motion_df.iloc[:,-3:]\n",
    "# Drop target from main dataframe.\n",
    "complete_motion_df.drop(complete_motion_df.iloc[:,-3:], axis = 1, inplace = True)\n",
    "target.head(5)"
   ]
  },
  {
   "cell_type": "markdown",
   "metadata": {},
   "source": [
    "NEED TO SCALE DATA HERE"
   ]
  },
  {
   "cell_type": "code",
   "execution_count": null,
   "metadata": {},
   "outputs": [],
   "source": [
    "# Convert training and target data into tensorflow dataset.\n",
    "full_dataset = tf.data.Dataset.from_tensor_slices((complete_motion_df.values, target.values))\n",
    "# Shuffle the fulle dataset.  Set the buffer to just be the size of the dataset for now.\n",
    "# Might need to reduce buffer later on with larger datasets.\n",
    "full_dataset = full_dataset.shuffle(len(complete_motion_df))"
   ]
  },
  {
   "cell_type": "code",
   "execution_count": null,
   "metadata": {},
   "outputs": [],
   "source": [
    "# Setup train, validation, and test splits\n",
    "DATASET_SIZE = len(complete_motion_df)\n",
    "train_size = int(0.7 * DATASET_SIZE)\n",
    "val_size = int(0.15 * DATASET_SIZE)\n",
    "test_size = int(0.15 * DATASET_SIZE)"
   ]
  },
  {
   "cell_type": "code",
   "execution_count": null,
   "metadata": {},
   "outputs": [],
   "source": [
    "# Select the specified number of rows for training, validation, and test\n",
    "# https://stackoverflow.com/questions/51125266/how-do-i-split-tensorflow-datasets#:~:text=Take%3A,count%20elements%20from%20this%20dataset.\n",
    "# Take a number of elements to create the full training set\n",
    "train_dataset = full_dataset.take(train_size)\n",
    "# Create a set that has both the validation and testing data in it by skipping over training data\n",
    "test_dataset = full_dataset.skip(train_size)\n",
    "# Split the above data into validation and testing data.\n",
    "val_dataset = test_dataset.skip(test_size)\n",
    "test_dataset = test_dataset.take(test_size)"
   ]
  },
  {
   "cell_type": "code",
   "execution_count": null,
   "metadata": {},
   "outputs": [],
   "source": [
    "# Print out training dataset.\n",
    "for feat, targ in full_dataset.take(5):\n",
    "    print('Features: {}, Target: {}'.format(feat, targ))"
   ]
  },
  {
   "cell_type": "code",
   "execution_count": null,
   "metadata": {},
   "outputs": [],
   "source": [
    "# Function to generate model (neural network)\n",
    "def get_compiled_model():\n",
    "  model = tf.keras.Sequential([\n",
    "    tf.keras.layers.Dense(15, activation='relu', input_shape=(15,1,)),\n",
    "    tf.keras.layers.Dense(50, activation='relu'),\n",
    "    tf.keras.layers.Dense(3, activation='linear')\n",
    "  ])\n",
    "\n",
    "  model.compile(optimizer='sgd',\n",
    "                loss='mean_squared_error',\n",
    "                metrics=['accuracy'])\n",
    "  return model"
   ]
  },
  {
   "cell_type": "code",
   "execution_count": null,
   "metadata": {},
   "outputs": [],
   "source": [
    "# Compile model\n",
    "model = get_compiled_model()"
   ]
  },
  {
   "cell_type": "code",
   "execution_count": null,
   "metadata": {},
   "outputs": [],
   "source": [
    "# Train model\n",
    "# history = model.fit(train_dataset, epochs=15, validation_data = val_dataset)\n",
    "history = model.fit(train_dataset, epochs=15)"
   ]
  },
  {
   "cell_type": "code",
   "execution_count": null,
   "metadata": {},
   "outputs": [],
   "source": [
    "# Evaluate the model\n",
    "mse_test = model.evaluate(test_dataset)"
   ]
  }
 ],
 "metadata": {
  "kernelspec": {
   "display_name": "Python 3",
   "language": "python",
   "name": "python3"
  },
  "language_info": {
   "codemirror_mode": {
    "name": "ipython",
    "version": 3
   },
   "file_extension": ".py",
   "mimetype": "text/x-python",
   "name": "python",
   "nbconvert_exporter": "python",
   "pygments_lexer": "ipython3",
   "version": "3.7.7"
  }
 },
 "nbformat": 4,
 "nbformat_minor": 4
}
